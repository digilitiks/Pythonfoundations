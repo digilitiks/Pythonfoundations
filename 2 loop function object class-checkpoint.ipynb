{
 "cells": [
  {
   "cell_type": "markdown",
   "metadata": {},
   "source": [
    "# Loops"
   ]
  },
  {
   "cell_type": "markdown",
   "metadata": {},
   "source": [
    "While Loop - test the conditional expression of the body of the loop while the condition remains true\n",
    "            - can execute a statement while the condition is true"
   ]
  },
  {
   "cell_type": "code",
   "execution_count": 3,
   "metadata": {},
   "outputs": [
    {
     "name": "stdout",
     "output_type": "stream",
     "text": [
      "1\n",
      "2\n",
      "3\n",
      "4\n",
      "5\n"
     ]
    }
   ],
   "source": [
    "i = 1\n",
    "while i < 6:\n",
    "    print (i)\n",
    "    i += 1"
   ]
  },
  {
   "cell_type": "raw",
   "metadata": {},
   "source": [
    "For loop - used for iterating over a sequence, that is either a list, a tuple, a dictionary, a set, or a string"
   ]
  },
  {
   "cell_type": "code",
   "execution_count": 5,
   "metadata": {},
   "outputs": [
    {
     "name": "stdout",
     "output_type": "stream",
     "text": [
      "apple\n",
      "banana\n",
      "cherry\n"
     ]
    }
   ],
   "source": [
    "fruits = ['apple', 'banana', 'cherry']\n",
    "for x in fruits:\n",
    "    print(x)"
   ]
  },
  {
   "cell_type": "raw",
   "metadata": {},
   "source": [
    "More Exmples"
   ]
  },
  {
   "cell_type": "code",
   "execution_count": 8,
   "metadata": {},
   "outputs": [
    {
     "name": "stdout",
     "output_type": "stream",
     "text": [
      "one\n",
      "two\n",
      "three\n",
      "four\n",
      "five\n"
     ]
    }
   ],
   "source": [
    "words = ['one', 'two', 'three', 'four', 'five']\n",
    "n = 0\n",
    "while (n < 5):\n",
    "    print(words[n])\n",
    "    n += 1"
   ]
  },
  {
   "cell_type": "code",
   "execution_count": 17,
   "metadata": {},
   "outputs": [
    {
     "name": "stdout",
     "output_type": "stream",
     "text": [
      "1,1,2,3,5,8,13,21,34,55,89,144,233,377,610,987,"
     ]
    }
   ],
   "source": [
    "a,b = 0, 1\n",
    "while b < 1000:\n",
    "    print(b, end = ',', flush=False)\n",
    "    a, b = b, a + b"
   ]
  },
  {
   "cell_type": "code",
   "execution_count": 19,
   "metadata": {},
   "outputs": [
    {
     "name": "stdout",
     "output_type": "stream",
     "text": [
      "one\n",
      "two\n",
      "three\n",
      "four\n",
      "five\n"
     ]
    }
   ],
   "source": [
    "words = ['one', 'two', 'three', 'four', 'five']\n",
    "\n",
    "for i in words:\n",
    "    print (i )"
   ]
  },
  {
   "cell_type": "markdown",
   "metadata": {},
   "source": [
    "# Functions"
   ]
  },
  {
   "cell_type": "raw",
   "metadata": {},
   "source": [
    "It a block of codes that functions only when it is called. Data can be passed as parameters into functions. It can return data as a result."
   ]
  },
  {
   "cell_type": "code",
   "execution_count": 2,
   "metadata": {},
   "outputs": [
    {
     "name": "stdout",
     "output_type": "stream",
     "text": [
      "42\n"
     ]
    }
   ],
   "source": [
    "def function (n):\n",
    "       print(n)\n",
    "\n",
    "function (42)"
   ]
  },
  {
   "cell_type": "code",
   "execution_count": 5,
   "metadata": {},
   "outputs": [
    {
     "name": "stdout",
     "output_type": "stream",
     "text": [
      "1\n"
     ]
    }
   ],
   "source": [
    "def function(n = 1):\n",
    "    print(n)\n",
    "    \n",
    "function() #If you provide a value in the parenthesis, it is the value that is shown, otherwise it is 1."
   ]
  },
  {
   "cell_type": "code",
   "execution_count": 10,
   "metadata": {},
   "outputs": [
    {
     "name": "stdout",
     "output_type": "stream",
     "text": [
      "42\n",
      "84\n"
     ]
    }
   ],
   "source": [
    "def function (n = 1):\n",
    "    print(n)\n",
    "    return n * 2\n",
    "\n",
    "x = function(42)\n",
    "print (x)"
   ]
  },
  {
   "cell_type": "code",
   "execution_count": 39,
   "metadata": {},
   "outputs": [
    {
     "name": "stdout",
     "output_type": "stream",
     "text": [
      " 10 not prime.\n"
     ]
    }
   ],
   "source": [
    "def isprime(n):\n",
    "    if n <= 25:\n",
    "        return False\n",
    "    for x in range (4, n):\n",
    "        if n % x == 0:\n",
    "            return False\n",
    "    else:\n",
    "        return True\n",
    "    \n",
    "n = 10\n",
    "if isprime(n):\n",
    "    print(f' {n} is prime.')\n",
    "else:\n",
    "    print(f' {n} not prime.')"
   ]
  },
  {
   "cell_type": "code",
   "execution_count": 29,
   "metadata": {},
   "outputs": [
    {
     "name": "stdout",
     "output_type": "stream",
     "text": [
      "3 4 5 6 7 9 11 13 17 19 23 29 31 37 41 43 47 53 59 61 67 71 73 79 83 89 97 \n"
     ]
    }
   ],
   "source": [
    " def list_primes():\n",
    "    for n in range (100):\n",
    "        if isprime(n):\n",
    "            print(n, end = ' ', flush=True)\n",
    "    print()\n",
    "    \n",
    "list_primes()"
   ]
  },
  {
   "cell_type": "markdown",
   "metadata": {},
   "source": [
    "# Class and Objects"
   ]
  },
  {
   "cell_type": "raw",
   "metadata": {},
   "source": [
    "Class - provide a means of bundling data functionality together\n",
    "    - creating a new class creates a new type of object allowing new instances of that type to be made\n",
    "    - defines a set of attributes that will characterize any object that is instantiated from this class\n",
    "    \n",
    "Object - instance of a class\n",
    "    - realized versio of a class, where the class is manifested in the program\n",
    "    \n",
    "Class is a definition and object is an instance of a class."
   ]
  },
  {
   "cell_type": "code",
   "execution_count": 8,
   "metadata": {},
   "outputs": [],
   "source": [
    "class animal:\n",
    "    def eat(self):\n",
    "        print('The animal is eating.')\n",
    "        \n",
    "    def be_awesome(self):\n",
    "        print('The animal is awesome.')\n",
    "    \n",
    "def main():\n",
    "    giraffe = animal()\n",
    "    giraffe.eat()\n",
    "    giraffe.be_awesome()"
   ]
  },
  {
   "cell_type": "code",
   "execution_count": 15,
   "metadata": {},
   "outputs": [],
   "source": [
    "class Duck:\n",
    "    sound = 'Quaaack!'\n",
    "    walking = \"Walking like a duck.\"\n",
    "    \n",
    "    def quack(self):\n",
    "        print(self.sound)\n",
    "        \n",
    "    def walk(self):\n",
    "        print(self.walking)\n",
    "        \n",
    "def main(self):\n",
    "    donald = Duck()\n",
    "    donal.quack()\n",
    "    donald.walk()"
   ]
  },
  {
   "cell_type": "code",
   "execution_count": null,
   "metadata": {},
   "outputs": [],
   "source": []
  }
 ],
 "metadata": {
  "kernelspec": {
   "display_name": "Python 3",
   "language": "python",
   "name": "python3"
  },
  "language_info": {
   "codemirror_mode": {
    "name": "ipython",
    "version": 3
   },
   "file_extension": ".py",
   "mimetype": "text/x-python",
   "name": "python",
   "nbconvert_exporter": "python",
   "pygments_lexer": "ipython3",
   "version": "3.7.6"
  }
 },
 "nbformat": 4,
 "nbformat_minor": 4
}
