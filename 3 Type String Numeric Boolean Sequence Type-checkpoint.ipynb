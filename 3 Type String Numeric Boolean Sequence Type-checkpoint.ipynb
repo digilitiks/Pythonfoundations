{
 "cells": [
  {
   "cell_type": "markdown",
   "metadata": {},
   "source": [
    "# Numerics"
   ]
  },
  {
   "cell_type": "raw",
   "metadata": {},
   "source": [
    "Integers- negative or positive whole numbers"
   ]
  },
  {
   "cell_type": "code",
   "execution_count": 1,
   "metadata": {},
   "outputs": [
    {
     "name": "stdout",
     "output_type": "stream",
     "text": [
      "x is 7.\n",
      "<class 'int'>\n"
     ]
    }
   ],
   "source": [
    "x = 7\n",
    "print('x is {}.'.format(x))\n",
    "print(type(x))"
   ]
  },
  {
   "cell_type": "raw",
   "metadata": {},
   "source": [
    "Float - real numberss but are written with decimal points (or scientific notation) to divide the whole number into fractiona parts"
   ]
  },
  {
   "cell_type": "code",
   "execution_count": 2,
   "metadata": {},
   "outputs": [
    {
     "name": "stdout",
     "output_type": "stream",
     "text": [
      "x is 7.0\n",
      "<class 'float'>\n"
     ]
    }
   ],
   "source": [
    "x = 7.0\n",
    "print('x is {}'.format(x))\n",
    "print(type(x))"
   ]
  },
  {
   "cell_type": "raw",
   "metadata": {},
   "source": [
    "Boolean Type - implemented as class of integers\n",
    "             - there are only two types, Py-false and Py-true\n",
    "             - False if the value is omitted or false\n",
    "             - True if the value is true."
   ]
  },
  {
   "cell_type": "code",
   "execution_count": 3,
   "metadata": {},
   "outputs": [
    {
     "name": "stdout",
     "output_type": "stream",
     "text": [
      "x is True\n",
      "<class 'bool'>\n"
     ]
    }
   ],
   "source": [
    "x = True\n",
    "print('x is {}'.format(x))\n",
    "print(type(x))"
   ]
  },
  {
   "cell_type": "raw",
   "metadata": {},
   "source": [
    "None a Value"
   ]
  },
  {
   "cell_type": "code",
   "execution_count": 4,
   "metadata": {},
   "outputs": [
    {
     "name": "stdout",
     "output_type": "stream",
     "text": [
      "x is None\n",
      "<class 'NoneType'>\n"
     ]
    }
   ],
   "source": [
    "x = None\n",
    "print('x is {}'.format(x))\n",
    "print(type(x))"
   ]
  },
  {
   "cell_type": "markdown",
   "metadata": {},
   "source": [
    "# String"
   ]
  },
  {
   "cell_type": "raw",
   "metadata": {},
   "source": [
    "It is a string of characters. A character is simply a symbol. "
   ]
  },
  {
   "cell_type": "code",
   "execution_count": 5,
   "metadata": {},
   "outputs": [
    {
     "name": "stdout",
     "output_type": "stream",
     "text": [
      "x is seven\n",
      "<class 'str'>\n"
     ]
    }
   ],
   "source": [
    "x = 'seven'\n",
    "print('x is {}'.format(x))\n",
    "print(type(x))"
   ]
  },
  {
   "cell_type": "code",
   "execution_count": 10,
   "metadata": {},
   "outputs": [
    {
     "name": "stdout",
     "output_type": "stream",
     "text": [
      "x is Seven\n",
      "<class 'str'>\n"
     ]
    }
   ],
   "source": [
    "x = 'seven'.capitalize()  #if lower or upper, it commands to do so.\n",
    "print('x is {}'.format(x))\n",
    "print(type(x))"
   ]
  },
  {
   "cell_type": "code",
   "execution_count": 14,
   "metadata": {},
   "outputs": [
    {
     "name": "stdout",
     "output_type": "stream",
     "text": [
      "x is seven 89\n",
      "<class 'str'>\n"
     ]
    }
   ],
   "source": [
    "x = 'seven {}{}'.format(8, 9)\n",
    "print('x is {}'.format(x))\n",
    "print(type(x))"
   ]
  },
  {
   "cell_type": "code",
   "execution_count": 20,
   "metadata": {},
   "outputs": [
    {
     "name": "stdout",
     "output_type": "stream",
     "text": [
      "x is seven 89\n",
      "<class 'str'>\n"
     ]
    }
   ],
   "source": [
    "a = 8\n",
    "b = 9\n",
    "\n",
    "x = f'seven {a}{b}'\n",
    "print('x is {}'.format(x))\n",
    "print(type(x))"
   ]
  },
  {
   "cell_type": "code",
   "execution_count": 22,
   "metadata": {},
   "outputs": [
    {
     "name": "stdout",
     "output_type": "stream",
     "text": [
      "x is seven 800000000 000000009\n",
      "<class 'str'>\n"
     ]
    }
   ],
   "source": [
    "a = 8\n",
    "b = 9\n",
    "\n",
    "x = f'seven {a:<09} {b:>09}'\n",
    "print('x is {}'.format(x))\n",
    "print(type(x))"
   ]
  },
  {
   "cell_type": "markdown",
   "metadata": {},
   "source": [
    "# Sequence"
   ]
  },
  {
   "cell_type": "raw",
   "metadata": {},
   "source": [
    "It is a generic term for an ordered set.\n",
    "\n",
    "Lists are the most versatile sequence type. The elements of a list can be any object, and lists are mutable - they can be changed. Elements can be reassigned or removed, and new elements can be inserted.\n",
    "\n",
    "Tuples are like lists, but they are immutable - they can't be changed.\n",
    "\n",
    "Strings are a special type of sequence that can only store characters, and they have a special notation. However, all of the sequence operations described below can also be used on strings.\n",
    "\n",
    "Python built-in function range() generates the integer numbers between the given start integer to the stop integer"
   ]
  },
  {
   "cell_type": "code",
   "execution_count": 38,
   "metadata": {},
   "outputs": [
    {
     "name": "stdout",
     "output_type": "stream",
     "text": [
      "i is 0\n",
      "i is 1\n",
      "i is 30\n",
      "i is 3\n",
      "i is 4\n"
     ]
    }
   ],
   "source": [
    "    #List\n",
    "    \n",
    "x = [0, 1, 2, 3, 4]\n",
    "x[2] = 30\n",
    "    for i in x:\n",
    "        print('i is {}'.format(i)) "
   ]
  },
  {
   "cell_type": "code",
   "execution_count": 40,
   "metadata": {},
   "outputs": [
    {
     "name": "stdout",
     "output_type": "stream",
     "text": [
      "i is 1\n",
      "i is 2\n",
      "i is 3\n",
      "i is 4\n"
     ]
    }
   ],
   "source": [
    "    #Tuple\n",
    "\n",
    "x = (1, 2, 3, 4)\n",
    "    for i in x:\n",
    "        print('i is {}'.format(i))"
   ]
  },
  {
   "cell_type": "code",
   "execution_count": 46,
   "metadata": {},
   "outputs": [
    {
     "name": "stdout",
     "output_type": "stream",
     "text": [
      "i is 0\n",
      "i is 1\n",
      "i is 2\n",
      "i is 3\n",
      "i is 4\n"
     ]
    }
   ],
   "source": [
    "    #Range\n",
    "\n",
    "x = range(5)\n",
    "    for i in x:\n",
    "        print('i is {}'.format(i))"
   ]
  },
  {
   "cell_type": "code",
   "execution_count": 44,
   "metadata": {},
   "outputs": [
    {
     "name": "stdout",
     "output_type": "stream",
     "text": [
      "i is 5\n",
      "i is 10\n",
      "i is 15\n",
      "i is 20\n",
      "i is 25\n",
      "i is 30\n",
      "i is 35\n",
      "i is 40\n",
      "i is 45\n"
     ]
    }
   ],
   "source": [
    "x = (range(5, 50, 5))\n",
    "for i in x:\n",
    "    print('i is {}'.format(i))"
   ]
  },
  {
   "cell_type": "code",
   "execution_count": 49,
   "metadata": {},
   "outputs": [
    {
     "name": "stdout",
     "output_type": "stream",
     "text": [
      " i is one\n",
      " i is two\n",
      " i is three\n",
      " i is four\n",
      " i is five\n"
     ]
    }
   ],
   "source": [
    "# Dictionary\n",
    "\n",
    "x = {'one': 1, \"two\": 2, 'three': 3, 'four': 4, 'five': 5}\n",
    "for i in x:\n",
    "    print(' i is {}'.format(i))"
   ]
  },
  {
   "cell_type": "code",
   "execution_count": 53,
   "metadata": {},
   "outputs": [
    {
     "name": "stdout",
     "output_type": "stream",
     "text": [
      " k:one, v1\n",
      " k:two, v2\n",
      " k:three, v3\n",
      " k:four, v4\n",
      " k:five, v5\n"
     ]
    }
   ],
   "source": [
    "x = {'one': 1, \"two\": 2, 'three': 3, 'four': 4, 'five': 5}\n",
    "for k, v in x.items():\n",
    "    print(' k:{}, v{}'.format(k, v))"
   ]
  },
  {
   "cell_type": "code",
   "execution_count": null,
   "metadata": {},
   "outputs": [],
   "source": []
  }
 ],
 "metadata": {
  "kernelspec": {
   "display_name": "Python 3",
   "language": "python",
   "name": "python3"
  },
  "language_info": {
   "codemirror_mode": {
    "name": "ipython",
    "version": 3
   },
   "file_extension": ".py",
   "mimetype": "text/x-python",
   "name": "python",
   "nbconvert_exporter": "python",
   "pygments_lexer": "ipython3",
   "version": "3.7.6"
  }
 },
 "nbformat": 4,
 "nbformat_minor": 4
}
